{
 "cells": [
  {
   "cell_type": "markdown",
   "metadata": {},
   "source": [
    "1. The probability in each case is (0.5)^4 or 1/16"
   ]
  },
  {
   "cell_type": "markdown",
   "metadata": {},
   "source": [
    "2. The probability of not choosing a man is 24/45 or 8/15"
   ]
  },
  {
   "cell_type": "markdown",
   "metadata": {},
   "source": [
    "3. These are indepedend; whether Bernice is on the plane or not does not affect the probably of the plane crashing. We multiply the probabilities to obtain 0.1 times 0.00005 which is 0.000005 or 0.0005%"
   ]
  },
  {
   "cell_type": "markdown",
   "metadata": {},
   "source": [
    "4. The 15 minutes is likely to be an overestimate since the longer a person is browsing the website, the more likely they will be to get a survey."
   ]
  },
  {
   "cell_type": "markdown",
   "metadata": {},
   "source": [
    "Next Drill Set"
   ]
  },
  {
   "cell_type": "markdown",
   "metadata": {},
   "source": [
    "1. P(positive | infected)=0.98\n",
    "\n",
    "    P(positive | ~ infected)=0.1\n",
    "    \n",
    "    P(infected)=0.005\n",
    "    \n",
    "    P(positive) = P(postive | infected)P(infected) + P(positive | ~ infected)P(~ infected)\n",
    "                = (0.98)(.005) + (0.1)(0.995)\n",
    "                = 0.1044 or 0.001044%"
   ]
  },
  {
   "cell_type": "markdown",
   "metadata": {},
   "source": [
    "2. 0.98 or 98%"
   ]
  },
  {
   "cell_type": "markdown",
   "metadata": {},
   "source": [
    "3. 0.9 or 90%"
   ]
  },
  {
   "cell_type": "markdown",
   "metadata": {},
   "source": [
    "4. Classifying correctly is P(positive | infected)P(infected) + P(~ positive | ~ infected)P(~ infected)\n",
    "                            =(0.98)(.005) + (0.9)(0.995)\n",
    "                            =.9004 or 90.04%\n",
    "                            \n",
    "   Classifying incorrectly is 1 - 0.9004 = 0.0996 or 9.96%"
   ]
  },
  {
   "cell_type": "code",
   "execution_count": null,
   "metadata": {},
   "outputs": [],
   "source": []
  }
 ],
 "metadata": {
  "kernelspec": {
   "display_name": "Python 3",
   "language": "python",
   "name": "python3"
  },
  "language_info": {
   "codemirror_mode": {
    "name": "ipython",
    "version": 3
   },
   "file_extension": ".py",
   "mimetype": "text/x-python",
   "name": "python",
   "nbconvert_exporter": "python",
   "pygments_lexer": "ipython3",
   "version": "3.7.3"
  }
 },
 "nbformat": 4,
 "nbformat_minor": 2
}
