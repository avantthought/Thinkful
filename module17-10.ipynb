{
 "cells": [
  {
   "cell_type": "code",
   "execution_count": 130,
   "metadata": {},
   "outputs": [],
   "source": [
    "%matplotlib inline\n",
    "import numpy as np\n",
    "import pandas as pd\n",
    "import scipy\n",
    "import sklearn\n",
    "from sklearn.metrics import confusion_matrix\n",
    "from sklearn.model_selection import cross_val_score\n",
    "import matplotlib.pyplot as plt\n",
    "import seaborn as sns"
   ]
  },
  {
   "cell_type": "code",
   "execution_count": 131,
   "metadata": {},
   "outputs": [
    {
     "data": {
      "text/html": [
       "<div>\n",
       "<style scoped>\n",
       "    .dataframe tbody tr th:only-of-type {\n",
       "        vertical-align: middle;\n",
       "    }\n",
       "\n",
       "    .dataframe tbody tr th {\n",
       "        vertical-align: top;\n",
       "    }\n",
       "\n",
       "    .dataframe thead th {\n",
       "        text-align: right;\n",
       "    }\n",
       "</style>\n",
       "<table border=\"1\" class=\"dataframe\">\n",
       "  <thead>\n",
       "    <tr style=\"text-align: right;\">\n",
       "      <th></th>\n",
       "      <th>Message</th>\n",
       "      <th>Negative Review</th>\n",
       "      <th>Positive Review</th>\n",
       "    </tr>\n",
       "  </thead>\n",
       "  <tbody>\n",
       "    <tr>\n",
       "      <th>0</th>\n",
       "      <td>A very, very, very slow-moving, aimless movie ...</td>\n",
       "      <td>True</td>\n",
       "      <td>False</td>\n",
       "    </tr>\n",
       "    <tr>\n",
       "      <th>1</th>\n",
       "      <td>Not sure who was more lost - the flat characte...</td>\n",
       "      <td>True</td>\n",
       "      <td>False</td>\n",
       "    </tr>\n",
       "    <tr>\n",
       "      <th>2</th>\n",
       "      <td>Attempting artiness with black &amp; white and cle...</td>\n",
       "      <td>True</td>\n",
       "      <td>False</td>\n",
       "    </tr>\n",
       "    <tr>\n",
       "      <th>3</th>\n",
       "      <td>Very little music or anything to speak of.</td>\n",
       "      <td>True</td>\n",
       "      <td>False</td>\n",
       "    </tr>\n",
       "    <tr>\n",
       "      <th>4</th>\n",
       "      <td>The best scene in the movie was when Gerardo i...</td>\n",
       "      <td>False</td>\n",
       "      <td>True</td>\n",
       "    </tr>\n",
       "    <tr>\n",
       "      <th>5</th>\n",
       "      <td>The rest of the movie lacks art, charm, meanin...</td>\n",
       "      <td>True</td>\n",
       "      <td>False</td>\n",
       "    </tr>\n",
       "    <tr>\n",
       "      <th>6</th>\n",
       "      <td>Wasted two hours.</td>\n",
       "      <td>True</td>\n",
       "      <td>False</td>\n",
       "    </tr>\n",
       "    <tr>\n",
       "      <th>7</th>\n",
       "      <td>Saw the movie today and thought it was a good ...</td>\n",
       "      <td>False</td>\n",
       "      <td>True</td>\n",
       "    </tr>\n",
       "    <tr>\n",
       "      <th>8</th>\n",
       "      <td>A bit predictable.</td>\n",
       "      <td>True</td>\n",
       "      <td>False</td>\n",
       "    </tr>\n",
       "    <tr>\n",
       "      <th>9</th>\n",
       "      <td>Loved the casting of Jimmy Buffet as the scien...</td>\n",
       "      <td>False</td>\n",
       "      <td>True</td>\n",
       "    </tr>\n",
       "    <tr>\n",
       "      <th>10</th>\n",
       "      <td>And those baby owls were adorable.</td>\n",
       "      <td>False</td>\n",
       "      <td>True</td>\n",
       "    </tr>\n",
       "    <tr>\n",
       "      <th>11</th>\n",
       "      <td>The movie showed a lot of Florida at it's best...</td>\n",
       "      <td>False</td>\n",
       "      <td>True</td>\n",
       "    </tr>\n",
       "    <tr>\n",
       "      <th>12</th>\n",
       "      <td>The Songs Were The Best And The Muppets Were S...</td>\n",
       "      <td>False</td>\n",
       "      <td>True</td>\n",
       "    </tr>\n",
       "    <tr>\n",
       "      <th>13</th>\n",
       "      <td>It Was So Cool.</td>\n",
       "      <td>False</td>\n",
       "      <td>True</td>\n",
       "    </tr>\n",
       "    <tr>\n",
       "      <th>14</th>\n",
       "      <td>This is a very \"right on case\" movie that deli...</td>\n",
       "      <td>False</td>\n",
       "      <td>True</td>\n",
       "    </tr>\n",
       "    <tr>\n",
       "      <th>15</th>\n",
       "      <td>It had some average acting from the main perso...</td>\n",
       "      <td>True</td>\n",
       "      <td>False</td>\n",
       "    </tr>\n",
       "    <tr>\n",
       "      <th>16</th>\n",
       "      <td>This review is long overdue, since I consider ...</td>\n",
       "      <td>False</td>\n",
       "      <td>True</td>\n",
       "    </tr>\n",
       "    <tr>\n",
       "      <th>17</th>\n",
       "      <td>I'll put this gem up against any movie in term...</td>\n",
       "      <td>False</td>\n",
       "      <td>True</td>\n",
       "    </tr>\n",
       "    <tr>\n",
       "      <th>18</th>\n",
       "      <td>It's practically perfect in all of them  a tr...</td>\n",
       "      <td>False</td>\n",
       "      <td>True</td>\n",
       "    </tr>\n",
       "    <tr>\n",
       "      <th>19</th>\n",
       "      <td>The structure of this film is easily the most...</td>\n",
       "      <td>True</td>\n",
       "      <td>False</td>\n",
       "    </tr>\n",
       "  </tbody>\n",
       "</table>\n",
       "</div>"
      ],
      "text/plain": [
       "                                              Message  Negative Review  \\\n",
       "0   A very, very, very slow-moving, aimless movie ...             True   \n",
       "1   Not sure who was more lost - the flat characte...             True   \n",
       "2   Attempting artiness with black & white and cle...             True   \n",
       "3        Very little music or anything to speak of.               True   \n",
       "4   The best scene in the movie was when Gerardo i...            False   \n",
       "5   The rest of the movie lacks art, charm, meanin...             True   \n",
       "6                                 Wasted two hours.               True   \n",
       "7   Saw the movie today and thought it was a good ...            False   \n",
       "8                                A bit predictable.               True   \n",
       "9   Loved the casting of Jimmy Buffet as the scien...            False   \n",
       "10               And those baby owls were adorable.              False   \n",
       "11  The movie showed a lot of Florida at it's best...            False   \n",
       "12  The Songs Were The Best And The Muppets Were S...            False   \n",
       "13                                  It Was So Cool.              False   \n",
       "14  This is a very \"right on case\" movie that deli...            False   \n",
       "15  It had some average acting from the main perso...             True   \n",
       "16  This review is long overdue, since I consider ...            False   \n",
       "17  I'll put this gem up against any movie in term...            False   \n",
       "18  It's practically perfect in all of them  a tr...            False   \n",
       "19   The structure of this film is easily the most...             True   \n",
       "\n",
       "    Positive Review  \n",
       "0             False  \n",
       "1             False  \n",
       "2             False  \n",
       "3             False  \n",
       "4              True  \n",
       "5             False  \n",
       "6             False  \n",
       "7              True  \n",
       "8             False  \n",
       "9              True  \n",
       "10             True  \n",
       "11             True  \n",
       "12             True  \n",
       "13             True  \n",
       "14             True  \n",
       "15            False  \n",
       "16             True  \n",
       "17             True  \n",
       "18             True  \n",
       "19            False  "
      ]
     },
     "execution_count": 131,
     "metadata": {},
     "output_type": "execute_result"
    }
   ],
   "source": [
    "df = pd.read_csv('imdb_labelled.txt', header=None, sep='\\t')\n",
    "pd.set_option('display.max_row', 100)\n",
    "df.columns = ['Message', 'Negative Review']\n",
    "df['Negative Review'] = (df['Negative Review'] == 0)\n",
    "df['Positive Review'] = (df['Negative Review'] == False)\n",
    "df.head(20)"
   ]
  },
  {
   "cell_type": "code",
   "execution_count": 132,
   "metadata": {},
   "outputs": [],
   "source": [
    "df1 = df.copy()"
   ]
  },
  {
   "cell_type": "code",
   "execution_count": 133,
   "metadata": {},
   "outputs": [
    {
     "name": "stdout",
     "output_type": "stream",
     "text": [
      "Number of mislabeled points out of a total 748 points : 276\n"
     ]
    }
   ],
   "source": [
    "#Here is the classifier from the previous challenge. Note that this classifier predicts NEGATIVE reviews.\n",
    "neg_keywords1 = ['bad', 'awful','stupid', 'terrible', 'worst', 'mess', 'weak', 'intelligence']\n",
    "\n",
    "for key in neg_keywords1:\n",
    "    df1[str(key)] = df1.Message.str.contains(\n",
    "        ' ' + str(key),\n",
    "        case=False\n",
    "    )\n",
    "\n",
    "data1 = df1[neg_keywords1]\n",
    "target_neg = df['Negative Review']\n",
    "\n",
    "#Bernoulli for boolean data\n",
    "from sklearn.naive_bayes import BernoulliNB\n",
    "\n",
    "# Instantiate our model and store it in a new variable.\n",
    "bnb = BernoulliNB()\n",
    "\n",
    "# Fit our model to the data.\n",
    "bnb.fit(data1, target_neg)\n",
    "\n",
    "# Classify, storing the result in a new variable.\n",
    "y_pred1 = bnb.predict(data1)\n",
    "\n",
    "# Display our results.\n",
    "print(\"Number of mislabeled points out of a total {} points : {}\".format(\n",
    "    data1.shape[0],\n",
    "    (target_neg != y_pred1).sum()\n",
    "))"
   ]
  },
  {
   "cell_type": "code",
   "execution_count": 134,
   "metadata": {},
   "outputs": [
    {
     "data": {
      "text/plain": [
       "array([[379,   7],\n",
       "       [269,  93]], dtype=int64)"
      ]
     },
     "execution_count": 134,
     "metadata": {},
     "output_type": "execute_result"
    }
   ],
   "source": [
    "confusion_matrix(target1, y_pred1)"
   ]
  },
  {
   "cell_type": "markdown",
   "metadata": {},
   "source": [
    "The main issue with this classifier is failing to catch negative reviews. 269 of the total 362 negative reviews were predicted to be postive (type II errors). Only 7 of the total 386 positive reviews were marked as negative (type I error). We also use cross validation with 10 folds:"
   ]
  },
  {
   "cell_type": "code",
   "execution_count": 135,
   "metadata": {},
   "outputs": [
    {
     "data": {
      "text/plain": [
       "array([0.56578947, 0.60526316, 0.61333333, 0.66666667, 0.65333333,\n",
       "       0.68      , 0.63513514, 0.62162162, 0.58108108, 0.66216216])"
      ]
     },
     "execution_count": 135,
     "metadata": {},
     "output_type": "execute_result"
    }
   ],
   "source": [
    "cross_val_score(bnb, data1, target_neg, cv=10)"
   ]
  },
  {
   "cell_type": "markdown",
   "metadata": {},
   "source": [
    "there is not so subtle variations in the scores."
   ]
  },
  {
   "cell_type": "markdown",
   "metadata": {},
   "source": [
    "We make another version of our classifier. We will still focus on finding negative reviews for this classifier. As stated in the previous challenge, we consider other attributes of the review. There are both short bad and good reviews, and long bad and good reviews. The punctuation and case of letters of bad and good reviews seems comparable as well. With these observations, we continue looking for keywords. Here is the correlation heatmap of the first classifier. \"bad\" has the highest correlation with a negative review, so we definitely keep that as a keyword."
   ]
  },
  {
   "cell_type": "code",
   "execution_count": 136,
   "metadata": {},
   "outputs": [
    {
     "data": {
      "text/plain": [
       "<matplotlib.axes._subplots.AxesSubplot at 0x17fb1ac1fd0>"
      ]
     },
     "execution_count": 136,
     "metadata": {},
     "output_type": "execute_result"
    },
    {
     "data": {
      "image/png": "[encoded data removed]",
      "text/plain": [
       "<Figure size 432x288 with 2 Axes>"
      ]
     },
     "metadata": {
      "needs_background": "light"
     },
     "output_type": "display_data"
    }
   ],
   "source": [
    "sns.heatmap(df1.corr())"
   ]
  },
  {
   "cell_type": "code",
   "execution_count": 137,
   "metadata": {},
   "outputs": [
    {
     "name": "stdout",
     "output_type": "stream",
     "text": [
      "Number of mislabeled points out of a total 748 points : 281\n"
     ]
    }
   ],
   "source": [
    "#Classifier 2 (identifies negative reviews). A variation of choice keywords\n",
    "df2 = df.copy()\n",
    "\n",
    "neg_keywords2 = ['bad', 'awful','stupid', 'lame', 'worse', 'offensive', 'weak', 'pretentious', 'dry', 'cheap']\n",
    "\n",
    "for key in neg_keywords2:\n",
    "    df2[str(key)] = df2.Message.str.contains(\n",
    "        ' ' + str(key),\n",
    "        case=False\n",
    "    )\n",
    "\n",
    "data2 = df2[neg_keywords2]\n",
    "\n",
    "#Bernoulli for boolean data\n",
    "from sklearn.naive_bayes import BernoulliNB\n",
    "\n",
    "# Instantiate our model and store it in a new variable.\n",
    "bnb = BernoulliNB()\n",
    "\n",
    "# Fit our model to the data.\n",
    "bnb.fit(data2, target_neg)\n",
    "\n",
    "# Classify, storing the result in a new variable.\n",
    "y_pred2 = bnb.predict(data2)\n",
    "\n",
    "# Display our results.\n",
    "print(\"Number of mislabeled points out of a total {} points : {}\".format(\n",
    "    data2.shape[0],\n",
    "    (target_neg != y_pred2).sum()\n",
    "))"
   ]
  },
  {
   "cell_type": "code",
   "execution_count": 138,
   "metadata": {},
   "outputs": [
    {
     "data": {
      "text/plain": [
       "<matplotlib.axes._subplots.AxesSubplot at 0x17fb1b677b8>"
      ]
     },
     "execution_count": 138,
     "metadata": {},
     "output_type": "execute_result"
    },
    {
     "data": {
      "image/png": "[encoded data removed]",
      "text/plain": [
       "<Figure size 432x288 with 2 Axes>"
      ]
     },
     "metadata": {
      "needs_background": "light"
     },
     "output_type": "display_data"
    }
   ],
   "source": [
    "sns.heatmap(df2.corr())"
   ]
  },
  {
   "cell_type": "code",
   "execution_count": 139,
   "metadata": {},
   "outputs": [
    {
     "data": {
      "text/plain": [
       "array([[380,   6],\n",
       "       [275,  87]], dtype=int64)"
      ]
     },
     "execution_count": 139,
     "metadata": {},
     "output_type": "execute_result"
    }
   ],
   "source": [
    "confusion_matrix(target_neg, y_pred2)"
   ]
  },
  {
   "cell_type": "markdown",
   "metadata": {},
   "source": [
    "There is barely any difference. 275 of the total 362 negative reviews were predicted to be postive (type II errors). Only 6 of the total 386 positive reviews were marked as negative (type I error). We again use cross validation with 10 folds. There is still a lot of variation in the scores"
   ]
  },
  {
   "cell_type": "code",
   "execution_count": 141,
   "metadata": {},
   "outputs": [
    {
     "data": {
      "text/plain": [
       "array([0.59210526, 0.59210526, 0.61333333, 0.69333333, 0.66666667,\n",
       "       0.64      , 0.62162162, 0.60810811, 0.52702703, 0.64864865])"
      ]
     },
     "execution_count": 141,
     "metadata": {},
     "output_type": "execute_result"
    }
   ],
   "source": [
    "cross_val_score(bnb, data2, target_neg, cv=10)"
   ]
  },
  {
   "cell_type": "markdown",
   "metadata": {},
   "source": [
    "We do one last negative review classifier. This time we combine all of the keywords used so far."
   ]
  },
  {
   "cell_type": "code",
   "execution_count": 142,
   "metadata": {},
   "outputs": [
    {
     "name": "stdout",
     "output_type": "stream",
     "text": [
      "Number of mislabeled points out of a total 748 points : 267\n"
     ]
    }
   ],
   "source": [
    "#Classifier 3 (identifies negative reviews). Combined negative keywords\n",
    "df3 = df.copy()\n",
    "\n",
    "neg_keywords3 = ['bad', 'awful','stupid', 'terrible', 'lame', 'worse', 'worst',\n",
    "                 'mess', 'offensive', 'weak', 'pretentious', 'dry', 'cheap', 'intelligence']\n",
    "\n",
    "for key in neg_keywords3:\n",
    "    df3[str(key)] = df3.Message.str.contains(\n",
    "        ' ' + str(key),\n",
    "        case=False\n",
    "    )\n",
    "\n",
    "data3 = df3[neg_keywords3]\n",
    "\n",
    "#Bernoulli for boolean data\n",
    "from sklearn.naive_bayes import BernoulliNB\n",
    "\n",
    "# Instantiate our model and store it in a new variable.\n",
    "bnb = BernoulliNB()\n",
    "\n",
    "# Fit our model to the data.\n",
    "bnb.fit(data3, target_neg)\n",
    "\n",
    "# Classify, storing the result in a new variable.\n",
    "y_pred3 = bnb.predict(data3)\n",
    "\n",
    "# Display our results.\n",
    "print(\"Number of mislabeled points out of a total {} points : {}\".format(\n",
    "    data3.shape[0],\n",
    "    (target_neg != y_pred3).sum()\n",
    "))"
   ]
  },
  {
   "cell_type": "code",
   "execution_count": 144,
   "metadata": {},
   "outputs": [
    {
     "data": {
      "text/plain": [
       "array([[378,   8],\n",
       "       [259, 103]], dtype=int64)"
      ]
     },
     "execution_count": 144,
     "metadata": {},
     "output_type": "execute_result"
    }
   ],
   "source": [
    "confusion_matrix(target_neg, y_pred3)"
   ]
  },
  {
   "cell_type": "code",
   "execution_count": 145,
   "metadata": {},
   "outputs": [
    {
     "data": {
      "text/plain": [
       "array([0.57894737, 0.60526316, 0.61333333, 0.69333333, 0.68      ,\n",
       "       0.65333333, 0.64864865, 0.62162162, 0.58108108, 0.67567568])"
      ]
     },
     "execution_count": 145,
     "metadata": {},
     "output_type": "execute_result"
    }
   ],
   "source": [
    "cross_val_score(bnb, data3, target_neg, cv=10)"
   ]
  },
  {
   "cell_type": "markdown",
   "metadata": {},
   "source": [
    "This caught only 16 more negative reviews than the previous classifier. Let's identify positive reviews instead."
   ]
  },
  {
   "cell_type": "code",
   "execution_count": 146,
   "metadata": {},
   "outputs": [
    {
     "name": "stdout",
     "output_type": "stream",
     "text": [
      "Number of mislabeled points out of a total 748 points : 312\n"
     ]
    }
   ],
   "source": [
    "#Classifier 4 (identifies positive reviews). Combined negative keywords\n",
    "df4 = df.copy()\n",
    "\n",
    "pos_keywords1 = ['good', 'interesting', 'awesome', 'art', 'great', 'well', 'funny']\n",
    "\n",
    "for key in pos_keywords1:\n",
    "    df4[str(key)] = df4.Message.str.contains(\n",
    "        ' ' + str(key),\n",
    "        case=False\n",
    "    )\n",
    "\n",
    "data4 = df4[pos_keywords1]\n",
    "target_pos = df['Positive Review']\n",
    "\n",
    "#Bernoulli for boolean data\n",
    "from sklearn.naive_bayes import BernoulliNB\n",
    "\n",
    "# Instantiate our model and store it in a new variable.\n",
    "bnb = BernoulliNB()\n",
    "\n",
    "# Fit our model to the data.\n",
    "bnb.fit(data4, target_pos)\n",
    "\n",
    "# Classify, storing the result in a new variable.\n",
    "y_pred4 = bnb.predict(data4)\n",
    "\n",
    "# Display our results.\n",
    "print(\"Number of mislabeled points out of a total {} points : {}\".format(\n",
    "    data4.shape[0],\n",
    "    (target_pos != y_pred4).sum()\n",
    "))"
   ]
  },
  {
   "cell_type": "code",
   "execution_count": 147,
   "metadata": {},
   "outputs": [
    {
     "data": {
      "text/plain": [
       "array([[336,  26],\n",
       "       [286, 100]], dtype=int64)"
      ]
     },
     "execution_count": 147,
     "metadata": {},
     "output_type": "execute_result"
    }
   ],
   "source": [
    "confusion_matrix(target_pos, y_pred4)"
   ]
  },
  {
   "cell_type": "code",
   "execution_count": 148,
   "metadata": {},
   "outputs": [
    {
     "data": {
      "text/plain": [
       "<matplotlib.axes._subplots.AxesSubplot at 0x17fb1b88eb8>"
      ]
     },
     "execution_count": 148,
     "metadata": {},
     "output_type": "execute_result"
    },
    {
     "data": {
      "image/png": "[encoded data removed]",
      "text/plain": [
       "<Figure size 432x288 with 2 Axes>"
      ]
     },
     "metadata": {
      "needs_background": "light"
     },
     "output_type": "display_data"
    }
   ],
   "source": [
    "sns.heatmap(df4.corr())"
   ]
  },
  {
   "cell_type": "code",
   "execution_count": 149,
   "metadata": {},
   "outputs": [
    {
     "data": {
      "text/plain": [
       "array([0.55263158, 0.59210526, 0.64      , 0.57333333, 0.64      ,\n",
       "       0.54666667, 0.59459459, 0.54054054, 0.56756757, 0.55405405])"
      ]
     },
     "execution_count": 149,
     "metadata": {},
     "output_type": "execute_result"
    }
   ],
   "source": [
    "cross_val_score(bnb, data4, target_pos, cv=10)"
   ]
  },
  {
   "cell_type": "code",
   "execution_count": 154,
   "metadata": {},
   "outputs": [
    {
     "name": "stdout",
     "output_type": "stream",
     "text": [
      "Number of mislabeled points out of a total 748 points : 263\n"
     ]
    }
   ],
   "source": [
    "#Classifier 5 (identifies positive reviews). More positive keywords\n",
    "df5 = df.copy()\n",
    "\n",
    "pos_keywords2 = ['good', 'interesting', 'awesome', 'art', 'great', 'well', 'funny', 'excellent', 'clever', 'like', 'wonderful'\n",
    "                 'brilliant', 'recommended', 'nice', 'wonderful', 'charming', 'strong', 'entertained', 'creative', 'best']\n",
    "\n",
    "for key in pos_keywords2:\n",
    "    df5[str(key)] = df5.Message.str.contains(\n",
    "        ' ' + str(key),\n",
    "        case=False\n",
    "    )\n",
    "\n",
    "data5 = df5[pos_keywords2]\n",
    "\n",
    "#Bernoulli for boolean data\n",
    "from sklearn.naive_bayes import BernoulliNB\n",
    "\n",
    "# Instantiate our model and store it in a new variable.\n",
    "bnb = BernoulliNB()\n",
    "\n",
    "# Fit our model to the data.\n",
    "bnb.fit(data5, target_pos)\n",
    "\n",
    "# Classify, storing the result in a new variable.\n",
    "y_pred5 = bnb.predict(data5)\n",
    "\n",
    "# Display our results.\n",
    "print(\"Number of mislabeled points out of a total {} points : {}\".format(\n",
    "    data5.shape[0],\n",
    "    (target_pos != y_pred5).sum()\n",
    "))"
   ]
  },
  {
   "cell_type": "code",
   "execution_count": 155,
   "metadata": {},
   "outputs": [
    {
     "data": {
      "text/plain": [
       "array([[319,  43],\n",
       "       [220, 166]], dtype=int64)"
      ]
     },
     "execution_count": 155,
     "metadata": {},
     "output_type": "execute_result"
    }
   ],
   "source": [
    "confusion_matrix(target_pos, y_pred5)"
   ]
  },
  {
   "cell_type": "code",
   "execution_count": 156,
   "metadata": {},
   "outputs": [
    {
     "data": {
      "text/plain": [
       "array([0.61842105, 0.61842105, 0.76      , 0.58666667, 0.66666667,\n",
       "       0.62666667, 0.66216216, 0.58108108, 0.62162162, 0.58108108])"
      ]
     },
     "execution_count": 156,
     "metadata": {},
     "output_type": "execute_result"
    }
   ],
   "source": [
    "cross_val_score(bnb, data5, target_pos, cv=10)"
   ]
  },
  {
   "cell_type": "markdown",
   "metadata": {},
   "source": [
    "The fifth classifier has the worst cross validation score variation. Overfitting is and issue, and adding more and more words to the keyword list is definitely not a good solution. There are also far more type I errors this time.\n",
    "\n",
    "The first four classifiers are somewhat equal in terms of cross-validation scores. Both of the positive keyword models have more type I errors. Perhaps negative reviews are more likely to contain phrases like \"not good\" than a positive review containg \"not bad.\" Negative reviews are easier to identify because of this. The most important feature of those used above seems to be the boolean column indicating the presence of the word \"bad.\"\n",
    "\n",
    "Combining the positive and negative classifiers in some way would maybe make a better classifier. All of the classifiers above have abudant type II errors (misses). For example, first test if the review is negative using one of the negative classifiers; if it's not, use one of the positive classifiers to test if it's positive."
   ]
  },
  {
   "cell_type": "code",
   "execution_count": null,
   "metadata": {},
   "outputs": [],
   "source": []
  }
 ],
 "metadata": {
  "kernelspec": {
   "display_name": "Python 3",
   "language": "python",
   "name": "python3"
  },
  "language_info": {
   "codemirror_mode": {
    "name": "ipython",
    "version": 3
   },
   "file_extension": ".py",
   "mimetype": "text/x-python",
   "name": "python",
   "nbconvert_exporter": "python",
   "pygments_lexer": "ipython3",
   "version": "3.7.3"
  }
 },
 "nbformat": 4,
 "nbformat_minor": 2
}
