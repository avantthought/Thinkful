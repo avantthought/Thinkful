{
 "cells": [
  {
   "cell_type": "code",
   "execution_count": 134,
   "metadata": {},
   "outputs": [],
   "source": [
    "import math\n",
    "from functools import reduce"
   ]
  },
  {
   "cell_type": "code",
   "execution_count": 18,
   "metadata": {},
   "outputs": [
    {
     "name": "stdout",
     "output_type": "stream",
     "text": [
      "233168\n"
     ]
    }
   ],
   "source": [
    "#1\n",
    "sum = 0\n",
    "i = 1\n",
    "\n",
    "while i < 1000:\n",
    "    if (i % 3 == 0) or (i % 5 == 0):\n",
    "        sum = sum + i\n",
    "    i = i + 1\n",
    "    \n",
    "print(sum)        "
   ]
  },
  {
   "cell_type": "code",
   "execution_count": 24,
   "metadata": {},
   "outputs": [
    {
     "name": "stdout",
     "output_type": "stream",
     "text": [
      "4613732\n"
     ]
    }
   ],
   "source": [
    "#2\n",
    "arr = [1,2]\n",
    "sum = 0\n",
    "\n",
    "while arr[-1] + arr[-2] < 4000000:\n",
    "    new = arr[-1] + arr[-2]\n",
    "    arr.append(new)\n",
    "\n",
    "for i in arr:\n",
    "    if (i % 2 == 0):\n",
    "        sum = sum + i\n",
    "        \n",
    "print(sum)\n",
    "    "
   ]
  },
  {
   "cell_type": "code",
   "execution_count": 111,
   "metadata": {},
   "outputs": [
    {
     "name": "stdout",
     "output_type": "stream",
     "text": [
      "6857\n"
     ]
    }
   ],
   "source": [
    "#3\n",
    "n = 600851475143\n",
    "sqrt = n**0.5\n",
    "arr1 = []\n",
    "arr2 = []\n",
    "i = 1\n",
    "\n",
    "while i < sqrt:\n",
    "    if (n % i == 0):\n",
    "        arr1.append(i)\n",
    "    i = i + 1\n",
    "    \n",
    "for i in range(len(arr1)):\n",
    "    arr2.append(int(n / arr1[i]))\n",
    "    \n",
    "arr3 = arr1 + arr2\n",
    "arr3.sort()\n",
    "largest = 1\n",
    "\n",
    "for i in range(len(arr3)):\n",
    "    if arr3[i] > 1:\n",
    "        prime = True\n",
    "        for j in range(2, int(arr3[i]**0.5)):\n",
    "            if (arr3[i] % j == 0):\n",
    "                prime = False\n",
    "        if prime == True:\n",
    "            largest = arr3[i]\n",
    "            \n",
    "print(largest)"
   ]
  },
  {
   "cell_type": "code",
   "execution_count": 117,
   "metadata": {},
   "outputs": [
    {
     "data": {
      "text/plain": [
       "906609"
      ]
     },
     "execution_count": 117,
     "metadata": {},
     "output_type": "execute_result"
    }
   ],
   "source": [
    "#4\n",
    "x = 999\n",
    "palindromes = []\n",
    "n = 99\n",
    "while x > n:\n",
    "    for i in range(x,n,-1):\n",
    "        product = x * i\n",
    "        product_string = str(product)\n",
    "        if product_string == product_string[::-1]:\n",
    "            palindromes.append(product)\n",
    "            n = i\n",
    "            break\n",
    "    x = x - 1\n",
    "\n",
    "palindromes.sort()\n",
    "palindromes.pop()"
   ]
  },
  {
   "cell_type": "code",
   "execution_count": 150,
   "metadata": {},
   "outputs": [
    {
     "name": "stdout",
     "output_type": "stream",
     "text": [
      "232792560\n"
     ]
    }
   ],
   "source": [
    "#5\n",
    "n = 20\n",
    "primes = []\n",
    "prime_power = []\n",
    "product = 1\n",
    "\n",
    "for i in range(2,n+1):\n",
    "    prime = True\n",
    "    for j in range(2, i):\n",
    "        if (i % j == 0):\n",
    "            prime = False\n",
    "    if prime == True:\n",
    "        primes.append(i)\n",
    "        \n",
    "for i in range(len(primes)):\n",
    "    base = primes[i]\n",
    "    i = base\n",
    "    while i <= n:\n",
    "        i = i * base\n",
    "    product = product * (int(i / base))\n",
    "    \n",
    "print(product)    "
   ]
  },
  {
   "cell_type": "code",
   "execution_count": 153,
   "metadata": {},
   "outputs": [
    {
     "name": "stdout",
     "output_type": "stream",
     "text": [
      "25164150\n"
     ]
    }
   ],
   "source": [
    "#6\n",
    "n = 100\n",
    "sum_sq = 0\n",
    "summ = 0\n",
    "\n",
    "for i in range(1,n+1):\n",
    "    sum_sq = sum_sq + i * i\n",
    "    summ = summ + i\n",
    "    \n",
    "diff = summ * summ - sum_sq\n",
    "\n",
    "print(diff)"
   ]
  },
  {
   "cell_type": "code",
   "execution_count": null,
   "metadata": {},
   "outputs": [],
   "source": [
    "#7\n",
    "primes = []\n",
    "\n",
    "while len(primes) < 10002:\n",
    "    "
   ]
  }
 ],
 "metadata": {
  "kernelspec": {
   "display_name": "Python 3",
   "language": "python",
   "name": "python3"
  },
  "language_info": {
   "codemirror_mode": {
    "name": "ipython",
    "version": 3
   },
   "file_extension": ".py",
   "mimetype": "text/x-python",
   "name": "python",
   "nbconvert_exporter": "python",
   "pygments_lexer": "ipython3",
   "version": "3.7.3"
  }
 },
 "nbformat": 4,
 "nbformat_minor": 2
}
