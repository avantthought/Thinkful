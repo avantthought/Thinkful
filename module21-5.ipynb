{
 "cells": [
  {
   "cell_type": "code",
   "execution_count": 1,
   "metadata": {},
   "outputs": [],
   "source": [
    "import numpy as np\n",
    "import pandas as pd\n",
    "import scipy\n",
    "import matplotlib.pyplot as plt\n",
    "import seaborn as sns\n",
    "%matplotlib inline"
   ]
  },
  {
   "cell_type": "code",
   "execution_count": 2,
   "metadata": {},
   "outputs": [],
   "source": [
    "df = pd.read_csv('https://tf-assets-prod.s3.amazonaws.com/tf-curric/data-science/epi_r.csv')"
   ]
  },
  {
   "cell_type": "code",
   "execution_count": 3,
   "metadata": {},
   "outputs": [
    {
     "data": {
      "image/png": "[encoded data removed]",
      "text/plain": [
       "<Figure size 432x288 with 1 Axes>"
      ]
     },
     "metadata": {
      "needs_background": "light"
     },
     "output_type": "display_data"
    }
   ],
   "source": [
    "df.rating.hist(bins=40)\n",
    "plt.title('Histogram of Recipe Ratings')\n",
    "plt.show()"
   ]
  },
  {
   "cell_type": "code",
   "execution_count": 4,
   "metadata": {
    "scrolled": true
   },
   "outputs": [
    {
     "data": {
      "text/plain": [
       "count    20052.000000\n",
       "mean         3.714467\n",
       "std          1.340829\n",
       "min          0.000000\n",
       "25%          3.750000\n",
       "50%          4.375000\n",
       "75%          4.375000\n",
       "max          5.000000\n",
       "Name: rating, dtype: float64"
      ]
     },
     "execution_count": 4,
     "metadata": {},
     "output_type": "execute_result"
    }
   ],
   "source": [
    "df.rating.describe()"
   ]
  },
  {
   "cell_type": "code",
   "execution_count": 5,
   "metadata": {},
   "outputs": [
    {
     "data": {
      "text/plain": [
       "calories    4117\n",
       "protein     4162\n",
       "fat         4183\n",
       "sodium      4119\n",
       "dtype: int64"
      ]
     },
     "execution_count": 5,
     "metadata": {},
     "output_type": "execute_result"
    }
   ],
   "source": [
    "# Count nulls \n",
    "null_count = df.isnull().sum()\n",
    "null_count[null_count>0]"
   ]
  },
  {
   "cell_type": "code",
   "execution_count": 6,
   "metadata": {
    "scrolled": true
   },
   "outputs": [
    {
     "data": {
      "text/html": [
       "<div>\n",
       "<style scoped>\n",
       "    .dataframe tbody tr th:only-of-type {\n",
       "        vertical-align: middle;\n",
       "    }\n",
       "\n",
       "    .dataframe tbody tr th {\n",
       "        vertical-align: top;\n",
       "    }\n",
       "\n",
       "    .dataframe thead th {\n",
       "        text-align: right;\n",
       "    }\n",
       "</style>\n",
       "<table border=\"1\" class=\"dataframe\">\n",
       "  <thead>\n",
       "    <tr style=\"text-align: right;\">\n",
       "      <th></th>\n",
       "      <th>rating</th>\n",
       "      <th>calories</th>\n",
       "      <th>protein</th>\n",
       "      <th>fat</th>\n",
       "      <th>sodium</th>\n",
       "      <th>#cakeweek</th>\n",
       "      <th>#wasteless</th>\n",
       "      <th>22-minute meals</th>\n",
       "      <th>3-ingredient recipes</th>\n",
       "      <th>30 days of groceries</th>\n",
       "      <th>...</th>\n",
       "      <th>yellow squash</th>\n",
       "      <th>yogurt</th>\n",
       "      <th>yonkers</th>\n",
       "      <th>yuca</th>\n",
       "      <th>zucchini</th>\n",
       "      <th>cookbooks</th>\n",
       "      <th>leftovers</th>\n",
       "      <th>snack</th>\n",
       "      <th>snack week</th>\n",
       "      <th>turkey</th>\n",
       "    </tr>\n",
       "  </thead>\n",
       "  <tbody>\n",
       "    <tr>\n",
       "      <th>count</th>\n",
       "      <td>15864.000000</td>\n",
       "      <td>1.586400e+04</td>\n",
       "      <td>15864.000000</td>\n",
       "      <td>1.586400e+04</td>\n",
       "      <td>1.586400e+04</td>\n",
       "      <td>15864.000000</td>\n",
       "      <td>15864.000000</td>\n",
       "      <td>15864.000000</td>\n",
       "      <td>15864.000000</td>\n",
       "      <td>15864.000000</td>\n",
       "      <td>...</td>\n",
       "      <td>15864.000000</td>\n",
       "      <td>15864.000000</td>\n",
       "      <td>15864.000000</td>\n",
       "      <td>15864.000000</td>\n",
       "      <td>15864.000000</td>\n",
       "      <td>15864.000000</td>\n",
       "      <td>15864.000000</td>\n",
       "      <td>15864.000000</td>\n",
       "      <td>15864.000000</td>\n",
       "      <td>15864.000000</td>\n",
       "    </tr>\n",
       "    <tr>\n",
       "      <th>mean</th>\n",
       "      <td>3.760952</td>\n",
       "      <td>6.350683e+03</td>\n",
       "      <td>100.324571</td>\n",
       "      <td>3.469868e+02</td>\n",
       "      <td>6.252742e+03</td>\n",
       "      <td>0.000378</td>\n",
       "      <td>0.000063</td>\n",
       "      <td>0.000946</td>\n",
       "      <td>0.001261</td>\n",
       "      <td>0.000441</td>\n",
       "      <td>...</td>\n",
       "      <td>0.001261</td>\n",
       "      <td>0.022504</td>\n",
       "      <td>0.000063</td>\n",
       "      <td>0.000315</td>\n",
       "      <td>0.014183</td>\n",
       "      <td>0.000126</td>\n",
       "      <td>0.000315</td>\n",
       "      <td>0.001324</td>\n",
       "      <td>0.000819</td>\n",
       "      <td>0.021243</td>\n",
       "    </tr>\n",
       "    <tr>\n",
       "      <th>std</th>\n",
       "      <td>1.285518</td>\n",
       "      <td>3.598484e+05</td>\n",
       "      <td>3843.462312</td>\n",
       "      <td>2.045933e+04</td>\n",
       "      <td>3.340421e+05</td>\n",
       "      <td>0.019445</td>\n",
       "      <td>0.007940</td>\n",
       "      <td>0.030736</td>\n",
       "      <td>0.035485</td>\n",
       "      <td>0.021002</td>\n",
       "      <td>...</td>\n",
       "      <td>0.035485</td>\n",
       "      <td>0.148320</td>\n",
       "      <td>0.007940</td>\n",
       "      <td>0.017751</td>\n",
       "      <td>0.118249</td>\n",
       "      <td>0.011228</td>\n",
       "      <td>0.017751</td>\n",
       "      <td>0.036360</td>\n",
       "      <td>0.028615</td>\n",
       "      <td>0.144198</td>\n",
       "    </tr>\n",
       "    <tr>\n",
       "      <th>min</th>\n",
       "      <td>0.000000</td>\n",
       "      <td>0.000000e+00</td>\n",
       "      <td>0.000000</td>\n",
       "      <td>0.000000e+00</td>\n",
       "      <td>0.000000e+00</td>\n",
       "      <td>0.000000</td>\n",
       "      <td>0.000000</td>\n",
       "      <td>0.000000</td>\n",
       "      <td>0.000000</td>\n",
       "      <td>0.000000</td>\n",
       "      <td>...</td>\n",
       "      <td>0.000000</td>\n",
       "      <td>0.000000</td>\n",
       "      <td>0.000000</td>\n",
       "      <td>0.000000</td>\n",
       "      <td>0.000000</td>\n",
       "      <td>0.000000</td>\n",
       "      <td>0.000000</td>\n",
       "      <td>0.000000</td>\n",
       "      <td>0.000000</td>\n",
       "      <td>0.000000</td>\n",
       "    </tr>\n",
       "    <tr>\n",
       "      <th>25%</th>\n",
       "      <td>3.750000</td>\n",
       "      <td>1.990000e+02</td>\n",
       "      <td>3.000000</td>\n",
       "      <td>7.000000e+00</td>\n",
       "      <td>8.200000e+01</td>\n",
       "      <td>0.000000</td>\n",
       "      <td>0.000000</td>\n",
       "      <td>0.000000</td>\n",
       "      <td>0.000000</td>\n",
       "      <td>0.000000</td>\n",
       "      <td>...</td>\n",
       "      <td>0.000000</td>\n",
       "      <td>0.000000</td>\n",
       "      <td>0.000000</td>\n",
       "      <td>0.000000</td>\n",
       "      <td>0.000000</td>\n",
       "      <td>0.000000</td>\n",
       "      <td>0.000000</td>\n",
       "      <td>0.000000</td>\n",
       "      <td>0.000000</td>\n",
       "      <td>0.000000</td>\n",
       "    </tr>\n",
       "    <tr>\n",
       "      <th>50%</th>\n",
       "      <td>4.375000</td>\n",
       "      <td>3.330000e+02</td>\n",
       "      <td>8.000000</td>\n",
       "      <td>1.700000e+01</td>\n",
       "      <td>2.960000e+02</td>\n",
       "      <td>0.000000</td>\n",
       "      <td>0.000000</td>\n",
       "      <td>0.000000</td>\n",
       "      <td>0.000000</td>\n",
       "      <td>0.000000</td>\n",
       "      <td>...</td>\n",
       "      <td>0.000000</td>\n",
       "      <td>0.000000</td>\n",
       "      <td>0.000000</td>\n",
       "      <td>0.000000</td>\n",
       "      <td>0.000000</td>\n",
       "      <td>0.000000</td>\n",
       "      <td>0.000000</td>\n",
       "      <td>0.000000</td>\n",
       "      <td>0.000000</td>\n",
       "      <td>0.000000</td>\n",
       "    </tr>\n",
       "    <tr>\n",
       "      <th>75%</th>\n",
       "      <td>4.375000</td>\n",
       "      <td>5.872500e+02</td>\n",
       "      <td>27.000000</td>\n",
       "      <td>3.300000e+01</td>\n",
       "      <td>7.130000e+02</td>\n",
       "      <td>0.000000</td>\n",
       "      <td>0.000000</td>\n",
       "      <td>0.000000</td>\n",
       "      <td>0.000000</td>\n",
       "      <td>0.000000</td>\n",
       "      <td>...</td>\n",
       "      <td>0.000000</td>\n",
       "      <td>0.000000</td>\n",
       "      <td>0.000000</td>\n",
       "      <td>0.000000</td>\n",
       "      <td>0.000000</td>\n",
       "      <td>0.000000</td>\n",
       "      <td>0.000000</td>\n",
       "      <td>0.000000</td>\n",
       "      <td>0.000000</td>\n",
       "      <td>0.000000</td>\n",
       "    </tr>\n",
       "    <tr>\n",
       "      <th>max</th>\n",
       "      <td>5.000000</td>\n",
       "      <td>3.011122e+07</td>\n",
       "      <td>236489.000000</td>\n",
       "      <td>1.722763e+06</td>\n",
       "      <td>2.767511e+07</td>\n",
       "      <td>1.000000</td>\n",
       "      <td>1.000000</td>\n",
       "      <td>1.000000</td>\n",
       "      <td>1.000000</td>\n",
       "      <td>1.000000</td>\n",
       "      <td>...</td>\n",
       "      <td>1.000000</td>\n",
       "      <td>1.000000</td>\n",
       "      <td>1.000000</td>\n",
       "      <td>1.000000</td>\n",
       "      <td>1.000000</td>\n",
       "      <td>1.000000</td>\n",
       "      <td>1.000000</td>\n",
       "      <td>1.000000</td>\n",
       "      <td>1.000000</td>\n",
       "      <td>1.000000</td>\n",
       "    </tr>\n",
       "  </tbody>\n",
       "</table>\n",
       "<p>8 rows × 679 columns</p>\n",
       "</div>"
      ],
      "text/plain": [
       "             rating      calories        protein           fat        sodium  \\\n",
       "count  15864.000000  1.586400e+04   15864.000000  1.586400e+04  1.586400e+04   \n",
       "mean       3.760952  6.350683e+03     100.324571  3.469868e+02  6.252742e+03   \n",
       "std        1.285518  3.598484e+05    3843.462312  2.045933e+04  3.340421e+05   \n",
       "min        0.000000  0.000000e+00       0.000000  0.000000e+00  0.000000e+00   \n",
       "25%        3.750000  1.990000e+02       3.000000  7.000000e+00  8.200000e+01   \n",
       "50%        4.375000  3.330000e+02       8.000000  1.700000e+01  2.960000e+02   \n",
       "75%        4.375000  5.872500e+02      27.000000  3.300000e+01  7.130000e+02   \n",
       "max        5.000000  3.011122e+07  236489.000000  1.722763e+06  2.767511e+07   \n",
       "\n",
       "          #cakeweek    #wasteless  22-minute meals  3-ingredient recipes  \\\n",
       "count  15864.000000  15864.000000     15864.000000          15864.000000   \n",
       "mean       0.000378      0.000063         0.000946              0.001261   \n",
       "std        0.019445      0.007940         0.030736              0.035485   \n",
       "min        0.000000      0.000000         0.000000              0.000000   \n",
       "25%        0.000000      0.000000         0.000000              0.000000   \n",
       "50%        0.000000      0.000000         0.000000              0.000000   \n",
       "75%        0.000000      0.000000         0.000000              0.000000   \n",
       "max        1.000000      1.000000         1.000000              1.000000   \n",
       "\n",
       "       30 days of groceries  ...  yellow squash        yogurt       yonkers  \\\n",
       "count          15864.000000  ...   15864.000000  15864.000000  15864.000000   \n",
       "mean               0.000441  ...       0.001261      0.022504      0.000063   \n",
       "std                0.021002  ...       0.035485      0.148320      0.007940   \n",
       "min                0.000000  ...       0.000000      0.000000      0.000000   \n",
       "25%                0.000000  ...       0.000000      0.000000      0.000000   \n",
       "50%                0.000000  ...       0.000000      0.000000      0.000000   \n",
       "75%                0.000000  ...       0.000000      0.000000      0.000000   \n",
       "max                1.000000  ...       1.000000      1.000000      1.000000   \n",
       "\n",
       "               yuca      zucchini     cookbooks     leftovers         snack  \\\n",
       "count  15864.000000  15864.000000  15864.000000  15864.000000  15864.000000   \n",
       "mean       0.000315      0.014183      0.000126      0.000315      0.001324   \n",
       "std        0.017751      0.118249      0.011228      0.017751      0.036360   \n",
       "min        0.000000      0.000000      0.000000      0.000000      0.000000   \n",
       "25%        0.000000      0.000000      0.000000      0.000000      0.000000   \n",
       "50%        0.000000      0.000000      0.000000      0.000000      0.000000   \n",
       "75%        0.000000      0.000000      0.000000      0.000000      0.000000   \n",
       "max        1.000000      1.000000      1.000000      1.000000      1.000000   \n",
       "\n",
       "         snack week        turkey  \n",
       "count  15864.000000  15864.000000  \n",
       "mean       0.000819      0.021243  \n",
       "std        0.028615      0.144198  \n",
       "min        0.000000      0.000000  \n",
       "25%        0.000000      0.000000  \n",
       "50%        0.000000      0.000000  \n",
       "75%        0.000000      0.000000  \n",
       "max        1.000000      1.000000  \n",
       "\n",
       "[8 rows x 679 columns]"
      ]
     },
     "execution_count": 6,
     "metadata": {},
     "output_type": "execute_result"
    }
   ],
   "source": [
    "# Since over 75% of the data does have information for the nutritional value,\n",
    "# we will drop the entries that lack this information.\n",
    "\n",
    "df.dropna(inplace=True)\n",
    "df.describe()"
   ]
  },
  {
   "cell_type": "code",
   "execution_count": 7,
   "metadata": {},
   "outputs": [
    {
     "data": {
      "image/png": "[encoded data removed]",
      "text/plain": [
       "<Figure size 432x288 with 1 Axes>"
      ]
     },
     "metadata": {
      "needs_background": "light"
     },
     "output_type": "display_data"
    }
   ],
   "source": [
    "#After dropping these entries, the historgram has roughly the same shape as before\n",
    "\n",
    "df.rating.hist(bins=40)\n",
    "plt.title('Histogram of Recipe Ratings')\n",
    "plt.show()"
   ]
  },
  {
   "cell_type": "code",
   "execution_count": 8,
   "metadata": {},
   "outputs": [],
   "source": [
    "# With no ratings at 3.5, for a SVM binary classifier we will use a rating of 3.5 as a divider between \"good\" and \"bad\" recipes.\n",
    "\n",
    "df['rating_binary'] = 0.5*(np.sign(df['rating'] - 3.5) + 1)"
   ]
  },
  {
   "cell_type": "code",
   "execution_count": 9,
   "metadata": {},
   "outputs": [],
   "source": [
    "df.drop(['rating'],axis=1,inplace=True)"
   ]
  },
  {
   "cell_type": "code",
   "execution_count": 10,
   "metadata": {
    "scrolled": true
   },
   "outputs": [
    {
     "name": "stdout",
     "output_type": "stream",
     "text": [
      "<class 'pandas.core.frame.DataFrame'>\n",
      "Int64Index: 15864 entries, 0 to 20051\n",
      "Columns: 680 entries, title to rating_binary\n",
      "dtypes: float64(679), object(1)\n",
      "memory usage: 82.4+ MB\n"
     ]
    }
   ],
   "source": [
    "df.info()"
   ]
  },
  {
   "cell_type": "code",
   "execution_count": 11,
   "metadata": {},
   "outputs": [],
   "source": [
    "M = df.corr()"
   ]
  },
  {
   "cell_type": "code",
   "execution_count": 12,
   "metadata": {},
   "outputs": [
    {
     "data": {
      "text/html": [
       "<div>\n",
       "<style scoped>\n",
       "    .dataframe tbody tr th:only-of-type {\n",
       "        vertical-align: middle;\n",
       "    }\n",
       "\n",
       "    .dataframe tbody tr th {\n",
       "        vertical-align: top;\n",
       "    }\n",
       "\n",
       "    .dataframe thead th {\n",
       "        text-align: right;\n",
       "    }\n",
       "</style>\n",
       "<table border=\"1\" class=\"dataframe\">\n",
       "  <thead>\n",
       "    <tr style=\"text-align: right;\">\n",
       "      <th></th>\n",
       "      <th>rating_binary</th>\n",
       "    </tr>\n",
       "  </thead>\n",
       "  <tbody>\n",
       "    <tr>\n",
       "      <th>braise</th>\n",
       "      <td>0.040263</td>\n",
       "    </tr>\n",
       "    <tr>\n",
       "      <th>grill/barbecue</th>\n",
       "      <td>0.040273</td>\n",
       "    </tr>\n",
       "    <tr>\n",
       "      <th>goat cheese</th>\n",
       "      <td>0.040309</td>\n",
       "    </tr>\n",
       "    <tr>\n",
       "      <th>lime juice</th>\n",
       "      <td>0.040567</td>\n",
       "    </tr>\n",
       "    <tr>\n",
       "      <th>shrimp</th>\n",
       "      <td>0.040832</td>\n",
       "    </tr>\n",
       "    <tr>\n",
       "      <th>party</th>\n",
       "      <td>0.041037</td>\n",
       "    </tr>\n",
       "    <tr>\n",
       "      <th>3-ingredient recipes</th>\n",
       "      <td>0.041053</td>\n",
       "    </tr>\n",
       "    <tr>\n",
       "      <th>tea</th>\n",
       "      <td>0.041211</td>\n",
       "    </tr>\n",
       "    <tr>\n",
       "      <th>pickles</th>\n",
       "      <td>0.041734</td>\n",
       "    </tr>\n",
       "    <tr>\n",
       "      <th>vermouth</th>\n",
       "      <td>0.041937</td>\n",
       "    </tr>\n",
       "    <tr>\n",
       "      <th>chartreuse</th>\n",
       "      <td>0.042037</td>\n",
       "    </tr>\n",
       "    <tr>\n",
       "      <th>tree nut free</th>\n",
       "      <td>0.042311</td>\n",
       "    </tr>\n",
       "    <tr>\n",
       "      <th>fruit juice</th>\n",
       "      <td>0.042464</td>\n",
       "    </tr>\n",
       "    <tr>\n",
       "      <th>fortified wine</th>\n",
       "      <td>0.043484</td>\n",
       "    </tr>\n",
       "    <tr>\n",
       "      <th>soy free</th>\n",
       "      <td>0.044210</td>\n",
       "    </tr>\n",
       "    <tr>\n",
       "      <th>tomato</th>\n",
       "      <td>0.044831</td>\n",
       "    </tr>\n",
       "    <tr>\n",
       "      <th>thanksgiving</th>\n",
       "      <td>0.044868</td>\n",
       "    </tr>\n",
       "    <tr>\n",
       "      <th>peanut free</th>\n",
       "      <td>0.045093</td>\n",
       "    </tr>\n",
       "    <tr>\n",
       "      <th>liqueur</th>\n",
       "      <td>0.051244</td>\n",
       "    </tr>\n",
       "    <tr>\n",
       "      <th>weelicious</th>\n",
       "      <td>0.052132</td>\n",
       "    </tr>\n",
       "    <tr>\n",
       "      <th>winter</th>\n",
       "      <td>0.053812</td>\n",
       "    </tr>\n",
       "    <tr>\n",
       "      <th>low carb</th>\n",
       "      <td>0.054338</td>\n",
       "    </tr>\n",
       "    <tr>\n",
       "      <th>créme de cacao</th>\n",
       "      <td>0.054585</td>\n",
       "    </tr>\n",
       "    <tr>\n",
       "      <th>fall</th>\n",
       "      <td>0.057719</td>\n",
       "    </tr>\n",
       "    <tr>\n",
       "      <th>bake</th>\n",
       "      <td>0.059801</td>\n",
       "    </tr>\n",
       "    <tr>\n",
       "      <th>condiment</th>\n",
       "      <td>0.061001</td>\n",
       "    </tr>\n",
       "    <tr>\n",
       "      <th>non-alcoholic</th>\n",
       "      <td>0.062841</td>\n",
       "    </tr>\n",
       "    <tr>\n",
       "      <th>roast</th>\n",
       "      <td>0.062895</td>\n",
       "    </tr>\n",
       "    <tr>\n",
       "      <th>vegan</th>\n",
       "      <td>0.066024</td>\n",
       "    </tr>\n",
       "    <tr>\n",
       "      <th>sauté</th>\n",
       "      <td>0.066660</td>\n",
       "    </tr>\n",
       "    <tr>\n",
       "      <th>rum</th>\n",
       "      <td>0.073480</td>\n",
       "    </tr>\n",
       "    <tr>\n",
       "      <th>harpercollins</th>\n",
       "      <td>0.080685</td>\n",
       "    </tr>\n",
       "    <tr>\n",
       "      <th>bitters</th>\n",
       "      <td>0.090799</td>\n",
       "    </tr>\n",
       "    <tr>\n",
       "      <th>spirit</th>\n",
       "      <td>0.096592</td>\n",
       "    </tr>\n",
       "    <tr>\n",
       "      <th>cocktail party</th>\n",
       "      <td>0.097951</td>\n",
       "    </tr>\n",
       "    <tr>\n",
       "      <th>cocktail</th>\n",
       "      <td>0.103036</td>\n",
       "    </tr>\n",
       "    <tr>\n",
       "      <th>bon appétit</th>\n",
       "      <td>0.121161</td>\n",
       "    </tr>\n",
       "    <tr>\n",
       "      <th>gin</th>\n",
       "      <td>0.135935</td>\n",
       "    </tr>\n",
       "    <tr>\n",
       "      <th>house &amp; garden</th>\n",
       "      <td>0.153984</td>\n",
       "    </tr>\n",
       "    <tr>\n",
       "      <th>alcoholic</th>\n",
       "      <td>0.161748</td>\n",
       "    </tr>\n",
       "    <tr>\n",
       "      <th>drink</th>\n",
       "      <td>0.176201</td>\n",
       "    </tr>\n",
       "    <tr>\n",
       "      <th>rating_binary</th>\n",
       "      <td>1.000000</td>\n",
       "    </tr>\n",
       "  </tbody>\n",
       "</table>\n",
       "</div>"
      ],
      "text/plain": [
       "                      rating_binary\n",
       "braise                     0.040263\n",
       "grill/barbecue             0.040273\n",
       "goat cheese                0.040309\n",
       "lime juice                 0.040567\n",
       "shrimp                     0.040832\n",
       "party                      0.041037\n",
       "3-ingredient recipes       0.041053\n",
       "tea                        0.041211\n",
       "pickles                    0.041734\n",
       "vermouth                   0.041937\n",
       "chartreuse                 0.042037\n",
       "tree nut free              0.042311\n",
       "fruit juice                0.042464\n",
       "fortified wine             0.043484\n",
       "soy free                   0.044210\n",
       "tomato                     0.044831\n",
       "thanksgiving               0.044868\n",
       "peanut free                0.045093\n",
       "liqueur                    0.051244\n",
       "weelicious                 0.052132\n",
       "winter                     0.053812\n",
       "low carb                   0.054338\n",
       "créme de cacao             0.054585\n",
       "fall                       0.057719\n",
       "bake                       0.059801\n",
       "condiment                  0.061001\n",
       "non-alcoholic              0.062841\n",
       "roast                      0.062895\n",
       "vegan                      0.066024\n",
       "sauté                      0.066660\n",
       "rum                        0.073480\n",
       "harpercollins              0.080685\n",
       "bitters                    0.090799\n",
       "spirit                     0.096592\n",
       "cocktail party             0.097951\n",
       "cocktail                   0.103036\n",
       "bon appétit                0.121161\n",
       "gin                        0.135935\n",
       "house & garden             0.153984\n",
       "alcoholic                  0.161748\n",
       "drink                      0.176201\n",
       "rating_binary              1.000000"
      ]
     },
     "execution_count": 12,
     "metadata": {},
     "output_type": "execute_result"
    }
   ],
   "source": [
    "# Here are the variables with at least 0.4 correlation coefficient with the target; these will be our features.\n",
    "# There are around 40 of them.\n",
    "\n",
    "M = M['rating_binary']\n",
    "M.dropna(inplace=True)\n",
    "M = M.abs()\n",
    "M = M.sort_values()\n",
    "M = M.to_frame()\n",
    "M = M[M['rating_binary'] >= 0.04]\n",
    "M"
   ]
  },
  {
   "cell_type": "code",
   "execution_count": 13,
   "metadata": {},
   "outputs": [
    {
     "data": {
      "text/plain": [
       "array(['braise', 'grill/barbecue', 'goat cheese', 'lime juice', 'shrimp',\n",
       "       'party', '3-ingredient recipes', 'tea', 'pickles', 'vermouth',\n",
       "       'chartreuse', 'tree nut free', 'fruit juice', 'fortified wine',\n",
       "       'soy free', 'tomato', 'thanksgiving', 'peanut free', 'liqueur',\n",
       "       'weelicious', 'winter', 'low carb', 'créme de cacao', 'fall',\n",
       "       'bake', 'condiment', 'non-alcoholic', 'roast', 'vegan', 'sauté',\n",
       "       'rum', 'harpercollins', 'bitters', 'spirit', 'cocktail party',\n",
       "       'cocktail', 'bon appétit', 'gin', 'house & garden', 'alcoholic',\n",
       "       'drink', 'rating_binary'], dtype=object)"
      ]
     },
     "execution_count": 13,
     "metadata": {},
     "output_type": "execute_result"
    }
   ],
   "source": [
    "A = M.index.values\n",
    "A"
   ]
  },
  {
   "cell_type": "code",
   "execution_count": 14,
   "metadata": {},
   "outputs": [],
   "source": [
    "columns = ['braise', 'grill/barbecue', 'goat cheese', 'lime juice', 'shrimp',\n",
    "       'party', '3-ingredient recipes', 'tea', 'pickles', 'vermouth',\n",
    "       'chartreuse', 'tree nut free', 'fruit juice', 'fortified wine',\n",
    "       'soy free', 'tomato', 'thanksgiving', 'peanut free', 'liqueur',\n",
    "       'weelicious', 'winter', 'low carb', 'créme de cacao', 'fall',\n",
    "       'bake', 'condiment', 'non-alcoholic', 'roast', 'vegan', 'sauté',\n",
    "       'rum', 'harpercollins', 'bitters', 'spirit', 'cocktail party',\n",
    "       'cocktail', 'bon appétit', 'gin', 'house & garden', 'alcoholic',\n",
    "       'drink']"
   ]
  },
  {
   "cell_type": "code",
   "execution_count": 15,
   "metadata": {},
   "outputs": [
    {
     "data": {
      "text/plain": [
       "SVC(C=1.0, cache_size=200, class_weight=None, coef0=0.0,\n",
       "    decision_function_shape='ovr', degree=3, gamma='auto_deprecated',\n",
       "    kernel='linear', max_iter=-1, probability=False, random_state=None,\n",
       "    shrinking=True, tol=0.001, verbose=False)"
      ]
     },
     "execution_count": 15,
     "metadata": {},
     "output_type": "execute_result"
    }
   ],
   "source": [
    "# SVM binary classifier\n",
    "\n",
    "from sklearn.svm import SVC\n",
    "X = df[columns].sample(frac=0.3, replace=True, random_state=1)\n",
    "Y = df['rating_binary'].sample(frac=0.3, replace=True, random_state=1)\n",
    "svm = SVC(kernel = 'linear')\n",
    "svm.fit(X,Y)"
   ]
  },
  {
   "cell_type": "code",
   "execution_count": 16,
   "metadata": {},
   "outputs": [
    {
     "data": {
      "text/plain": [
       "0.815297331372137"
      ]
     },
     "execution_count": 16,
     "metadata": {},
     "output_type": "execute_result"
    }
   ],
   "source": [
    "svm.score(X, Y)"
   ]
  },
  {
   "cell_type": "code",
   "execution_count": 17,
   "metadata": {},
   "outputs": [
    {
     "data": {
      "text/plain": [
       "array([0.81532004, 0.81197479, 0.80777311, 0.81072555, 0.8086225 ])"
      ]
     },
     "execution_count": 17,
     "metadata": {},
     "output_type": "execute_result"
    }
   ],
   "source": [
    "from sklearn.model_selection import cross_val_score\n",
    "cross_val_score(svm, X, Y, cv=5)"
   ]
  },
  {
   "cell_type": "markdown",
   "metadata": {},
   "source": [
    "Not bad! (not great though)"
   ]
  }
 ],
 "metadata": {
  "kernelspec": {
   "display_name": "Python 3",
   "language": "python",
   "name": "python3"
  },
  "language_info": {
   "codemirror_mode": {
    "name": "ipython",
    "version": 3
   },
   "file_extension": ".py",
   "mimetype": "text/x-python",
   "name": "python",
   "nbconvert_exporter": "python",
   "pygments_lexer": "ipython3",
   "version": "3.7.3"
  }
 },
 "nbformat": 4,
 "nbformat_minor": 2
}
